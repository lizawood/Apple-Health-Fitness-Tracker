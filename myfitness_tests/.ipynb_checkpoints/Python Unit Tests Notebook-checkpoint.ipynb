{
 "cells": [
  {
   "cell_type": "code",
   "execution_count": null,
   "metadata": {},
   "outputs": [],
   "source": [
    "# maxMinTestModule.py\n",
    "\n",
    "import unittest\n",
    "import pandas as pd\n",
    "from myfitness.summary import maxmin\n",
    " \n",
    "class TestmaxMin(unittest.TestCase):\n",
    "   \n",
    "    @classmethod                            \n",
    "    def setUpClass(cls):\n",
    "        print(\"Starting TestmaxMin\")\n",
    "        testdata = {'Start': ['2017-02-12 0:00', '2017-02-13 0:00', '2017-02-14 0:00', '2017-03-05 0:00', '2017-03-06 0:00', '2017-03-07 0:00', '2017-04-20 0:00', '2017-04-21 0:00', '2017-04-22 0:00', '2017-04-23 0:00'],\n",
    "                    'Finish': ['2017-02-13 0:00', '2017-02-14 0:00' , '2017-02-15 0:00', '2017-03-06 0:00', '2017-03-07 0:00', '2017-03-08 0:00', '2017-04-21 0:00', '2017-04-22 0:00', '2017-04-23 0:00', '2017-04-24 0:00'],\n",
    "                    'Distance (mi)': [0.559,2.591,1.422,1.0797,2.614,2.225,3.295,2.276,3.995,2.611],\n",
    "                    'Steps (count)': [1180, 5353, 3055, 2365, 5270, 4673, 6820, 4751, 9647, 6806]}\n",
    "        cls.testdf = pd.DataFrame(testdata)\n",
    "      \n",
    "    def setUp(self):\n",
    "        super().setUp()\n",
    "        print(self.__class__())\n",
    "\n",
    "    def test_getMax(self):\n",
    "        maxref = pd.Series({'Start': '2017-04-22 0:00', 'Finish': '2017-04-23 0:00', 'Distance (mi)': 3.995, 'Steps (count)': 9647})\n",
    "        # Verify the datatype 'object' is returned\n",
    "        self.assertEqual(maxmin.getMax(self.testdf).dtypes, 'O' ) \n",
    "        # Verify Start value for index with max steps\n",
    "        self.assertEqual(maxmin.getMax(self.testdf).loc['Start'],maxref.loc['Start'])\n",
    "        # Verify Finish value for index with max steps\n",
    "        self.assertEqual(maxmin.getMax(self.testdf).loc['Finish'],maxref.loc['Finish'])\n",
    "        # Verify Distance value for index with max steps\n",
    "        self.assertEqual(maxmin.getMax(self.testdf).loc['Distance (mi)'],maxref.loc['Distance (mi)'])\n",
    "        # Verifty maximum steps were correctly found\n",
    "        self.assertEqual(maxmin.getMax(self.testdf).loc['Steps (count)'],maxref.loc['Steps (count)'])\n",
    "        # Verify Except statement:\n",
    "        \n",
    "        \n",
    "    def test_getMin(self):\n",
    "        minref = pd.Series({'Start': '2017-02-12 0:00', 'Finish': '2017-02-13 0:00', 'Distance (mi)': 0.559,'Steps (count)': 1180})\n",
    "        # Verify the datatype 'object' is returned\n",
    "        self.assertEqual(maxmin.getMin(self.testdf).dtypes, 'O') \n",
    "        # Verify Start value for index with max steps\n",
    "        self.assertEqual(maxmin.getMin(self.testdf).loc['Start'],minref.loc['Start'])\n",
    "        # Verify Finish value for index with max steps\n",
    "        self.assertEqual(maxmin.getMin(self.testdf).loc['Finish'],minref.loc['Finish'])\n",
    "        # Verify Distance value for index with max steps\n",
    "        self.assertEqual(maxmin.getMin(self.testdf).loc['Distance (mi)'],minref.loc['Distance (mi)'])\n",
    "        # Verifty maximum steps were correctly found\n",
    "        self.assertEqual(maxmin.getMin(self.testdf).loc['Steps (count)'],minref.loc['Steps (count)'])\n",
    "    \n",
    "    def tearDown(self):\n",
    "        super().tearDown\n",
    "    \n",
    "    @classmethod\n",
    "    def tearDownClass(cls):\n",
    "        del cls.testdf\n",
    "        print (\"TestmaxMin completed\")\n",
    "\n",
    "# For Jupyter notebook only:\n",
    "unittest.main(argv=[''], verbosity=2, exit=False)"
   ]
  },
  {
   "cell_type": "code",
   "execution_count": null,
   "metadata": {},
   "outputs": [],
   "source": [
    "# tableTestModule.py\n",
    "\n",
    "import unittest\n",
    "import pandas as pd\n",
    "from myfitness.summary import table\n",
    " \n",
    "class Testtable(unittest.TestCase):\n",
    "    \n",
    "    @classmethod                            \n",
    "    def setUpClass(cls):\n",
    "        print(\"Starting Testtable\")\n",
    "        testdata2 = {'Start': ['2017-02-12 0:00','2017-03-07 0:00' , '2017-02-14 0:00', '2017-03-05 0:00', '2017-03-06 0:00', '2017-04-20 0:00', '2017-04-21 0:00', '2017-02-13 0:00','2017-04-22 0:00', '2017-04-23 0:00'],\n",
    "            'Finish': ['2017-02-13 0:00','2017-03-08 0:00', '2017-02-15 0:00', '2017-03-06 0:00', '2017-03-07 0:00', '2017-04-21 0:00', '2017-04-22 0:00', '2017-02-14 0:00', '2017-04-23 0:00', '2017-04-24 0:00'],\n",
    "            'Distance (mi)': [0.559,2.225,1.422,1.0797,2.614,3.295,2.276,2.591,3.995,2.611],\n",
    "            'Steps (count)': [1180, 4673, 3055, 2365, 5270, 6820, 4751, 5353, 9647, 6806]}\n",
    "        cls.testdf2 = pd.DataFrame(testdata2)\n",
    "    \n",
    "    def setUp(self):\n",
    "        super().setUp()\n",
    "        print(self.__class__())\n",
    "\n",
    "    def test_table(self):\n",
    "        febsteps = (1180+5353+3055)/3\n",
    "        marsteps = (2365+5270+4673)/3\n",
    "        aprsteps = (6820+4751+9647+6806)/4\n",
    "        testtable = table.summary_data(self.testdf2)\n",
    "        # Validate the date string was changed to datetime\n",
    "        self.assertEqual(testtable.index.dtype, 'datetime64[ns]')\n",
    "        # Verify the shape of the table\n",
    "        self.assertEqual(testtable.shape, (3,1))\n",
    "        # Verify the dates are sorted\n",
    "        self.assertTrue(testtable.index[0]<testtable.index[1])\n",
    "        self.assertTrue(testtable.index[1]<testtable.index[2])\n",
    "        # Verify the values were calculated correctly\n",
    "        self.assertEqual(testtable.steps.values[0], febsteps)\n",
    "        self.assertEqual(testtable.steps.values[1], marsteps)\n",
    "        self.assertEqual(testtable.steps.values[2], aprsteps)\n",
    "        \n",
    "    def tearDown(self):\n",
    "        super().tearDown()        \n",
    "    \n",
    "    @classmethod\n",
    "    def tearDownClass(cls):\n",
    "        del cls.testdf2\n",
    "        print(\"Testtable completed\")   \n",
    "\n",
    "# For Jupyter notebook only:\n",
    "unittest.main(argv=[''], verbosity=2, exit=False)"
   ]
  },
  {
   "cell_type": "code",
   "execution_count": 1,
   "metadata": {},
   "outputs": [
    {
     "name": "stderr",
     "output_type": "stream",
     "text": [
      "..."
     ]
    },
    {
     "name": "stdout",
     "output_type": "stream",
     "text": [
      "Starting TestmaxMin\n",
      "runTest (maxMinTestModule.TestmaxMin)\n",
      "runTest (maxMinTestModule.TestmaxMin)\n",
      "Finished TestmaxMin\n",
      "Starting Testtable\n",
      "runTest (tableTestModule.Testtable)\n",
      "Testtable completed\n",
      "Starting TestChart\n",
      "file:///var/folders/jb/ght0074d3n11s6s_4svlvgz40000gn/T/tmpo15io1o8.html\n"
     ]
    },
    {
     "name": "stderr",
     "output_type": "stream",
     "text": [
      ".."
     ]
    },
    {
     "name": "stdout",
     "output_type": "stream",
     "text": [
      "runTest (TestChart.TestChart)\n",
      "Finished TestChart\n",
      "Starting TestData\n",
      "runTest (TestData.TestDataPerson)\n",
      "Finished TestData\n",
      "<unittest.runner.TextTestResult run=5 errors=0 failures=0>\n"
     ]
    },
    {
     "name": "stderr",
     "output_type": "stream",
     "text": [
      "\n",
      "----------------------------------------------------------------------\n",
      "Ran 5 tests in 0.376s\n",
      "\n",
      "OK\n"
     ]
    }
   ],
   "source": [
    "# myFitnessTestSuite.py\n",
    "\n",
    "import unittest\n",
    "from maxMinTestModule import TestmaxMin\n",
    "from tableTestModule import Testtable\n",
    "from TestChart import TestChart\n",
    "from TestData import TestDataPerson\n",
    "\n",
    "\n",
    "def myFitness_suite():\n",
    "    suite = unittest.TestSuite()\n",
    "    result = unittest.TestResult()\n",
    "    suite.addTest(unittest.makeSuite(TestmaxMin))\n",
    "    suite.addTest(unittest.makeSuite(Testtable))\n",
    "    suite.addTest(unittest.makeSuite(TestChart))\n",
    "    suite.addTest(unittest.makeSuite(TestDataPerson))\n",
    "    runner = unittest.TextTestRunner()\n",
    "    print(runner.run(suite))\n",
    "\n",
    "myFitness_suite()"
   ]
  },
  {
   "cell_type": "code",
   "execution_count": 2,
   "metadata": {},
   "outputs": [
    {
     "ename": "KeyError",
     "evalue": "(0, 3)",
     "output_type": "error",
     "traceback": [
      "\u001b[0;31m---------------------------------------------------------------------------\u001b[0m",
      "\u001b[0;31mKeyError\u001b[0m                                  Traceback (most recent call last)",
      "\u001b[0;32m/anaconda3/lib/python3.6/site-packages/pandas/core/indexes/base.py\u001b[0m in \u001b[0;36mget_loc\u001b[0;34m(self, key, method, tolerance)\u001b[0m\n\u001b[1;32m   3062\u001b[0m             \u001b[0;32mtry\u001b[0m\u001b[0;34m:\u001b[0m\u001b[0;34m\u001b[0m\u001b[0m\n\u001b[0;32m-> 3063\u001b[0;31m                 \u001b[0;32mreturn\u001b[0m \u001b[0mself\u001b[0m\u001b[0;34m.\u001b[0m\u001b[0m_engine\u001b[0m\u001b[0;34m.\u001b[0m\u001b[0mget_loc\u001b[0m\u001b[0;34m(\u001b[0m\u001b[0mkey\u001b[0m\u001b[0;34m)\u001b[0m\u001b[0;34m\u001b[0m\u001b[0m\n\u001b[0m\u001b[1;32m   3064\u001b[0m             \u001b[0;32mexcept\u001b[0m \u001b[0mKeyError\u001b[0m\u001b[0;34m:\u001b[0m\u001b[0;34m\u001b[0m\u001b[0m\n",
      "\u001b[0;32mpandas/_libs/index.pyx\u001b[0m in \u001b[0;36mpandas._libs.index.IndexEngine.get_loc\u001b[0;34m()\u001b[0m\n",
      "\u001b[0;32mpandas/_libs/index.pyx\u001b[0m in \u001b[0;36mpandas._libs.index.IndexEngine.get_loc\u001b[0;34m()\u001b[0m\n",
      "\u001b[0;32mpandas/_libs/hashtable_class_helper.pxi\u001b[0m in \u001b[0;36mpandas._libs.hashtable.PyObjectHashTable.get_item\u001b[0;34m()\u001b[0m\n",
      "\u001b[0;32mpandas/_libs/hashtable_class_helper.pxi\u001b[0m in \u001b[0;36mpandas._libs.hashtable.PyObjectHashTable.get_item\u001b[0;34m()\u001b[0m\n",
      "\u001b[0;31mKeyError\u001b[0m: (0, 3)",
      "\nDuring handling of the above exception, another exception occurred:\n",
      "\u001b[0;31mKeyError\u001b[0m                                  Traceback (most recent call last)",
      "\u001b[0;32m<ipython-input-2-93e72c6e2c41>\u001b[0m in \u001b[0;36m<module>\u001b[0;34m()\u001b[0m\n\u001b[1;32m      8\u001b[0m \u001b[0mtestdf\u001b[0m \u001b[0;34m=\u001b[0m \u001b[0mpd\u001b[0m\u001b[0;34m.\u001b[0m\u001b[0mDataFrame\u001b[0m\u001b[0;34m(\u001b[0m\u001b[0mtestdata2\u001b[0m\u001b[0;34m)\u001b[0m\u001b[0;34m\u001b[0m\u001b[0m\n\u001b[1;32m      9\u001b[0m \u001b[0mmaxref\u001b[0m \u001b[0;34m=\u001b[0m \u001b[0mpd\u001b[0m\u001b[0;34m.\u001b[0m\u001b[0mSeries\u001b[0m\u001b[0;34m(\u001b[0m\u001b[0;34m{\u001b[0m\u001b[0;34m'Start'\u001b[0m\u001b[0;34m:\u001b[0m \u001b[0;34m'2017-04-22 0:00'\u001b[0m\u001b[0;34m,\u001b[0m \u001b[0;34m'Finish'\u001b[0m\u001b[0;34m:\u001b[0m \u001b[0;34m'2017-04-23 0:00'\u001b[0m\u001b[0;34m,\u001b[0m \u001b[0;34m'Distance (mi)'\u001b[0m\u001b[0;34m:\u001b[0m \u001b[0;36m3.995\u001b[0m\u001b[0;34m,\u001b[0m \u001b[0;34m'Steps (count)'\u001b[0m\u001b[0;34m:\u001b[0m \u001b[0;36m9647\u001b[0m\u001b[0;34m}\u001b[0m\u001b[0;34m)\u001b[0m\u001b[0;34m\u001b[0m\u001b[0m\n\u001b[0;32m---> 10\u001b[0;31m \u001b[0mtestdf\u001b[0m\u001b[0;34m[\u001b[0m\u001b[0;36m0\u001b[0m\u001b[0;34m,\u001b[0m\u001b[0;36m3\u001b[0m\u001b[0;34m]\u001b[0m\u001b[0;34m\u001b[0m\u001b[0m\n\u001b[0m",
      "\u001b[0;32m/anaconda3/lib/python3.6/site-packages/pandas/core/frame.py\u001b[0m in \u001b[0;36m__getitem__\u001b[0;34m(self, key)\u001b[0m\n\u001b[1;32m   2683\u001b[0m             \u001b[0;32mreturn\u001b[0m \u001b[0mself\u001b[0m\u001b[0;34m.\u001b[0m\u001b[0m_getitem_multilevel\u001b[0m\u001b[0;34m(\u001b[0m\u001b[0mkey\u001b[0m\u001b[0;34m)\u001b[0m\u001b[0;34m\u001b[0m\u001b[0m\n\u001b[1;32m   2684\u001b[0m         \u001b[0;32melse\u001b[0m\u001b[0;34m:\u001b[0m\u001b[0;34m\u001b[0m\u001b[0m\n\u001b[0;32m-> 2685\u001b[0;31m             \u001b[0;32mreturn\u001b[0m \u001b[0mself\u001b[0m\u001b[0;34m.\u001b[0m\u001b[0m_getitem_column\u001b[0m\u001b[0;34m(\u001b[0m\u001b[0mkey\u001b[0m\u001b[0;34m)\u001b[0m\u001b[0;34m\u001b[0m\u001b[0m\n\u001b[0m\u001b[1;32m   2686\u001b[0m \u001b[0;34m\u001b[0m\u001b[0m\n\u001b[1;32m   2687\u001b[0m     \u001b[0;32mdef\u001b[0m \u001b[0m_getitem_column\u001b[0m\u001b[0;34m(\u001b[0m\u001b[0mself\u001b[0m\u001b[0;34m,\u001b[0m \u001b[0mkey\u001b[0m\u001b[0;34m)\u001b[0m\u001b[0;34m:\u001b[0m\u001b[0;34m\u001b[0m\u001b[0m\n",
      "\u001b[0;32m/anaconda3/lib/python3.6/site-packages/pandas/core/frame.py\u001b[0m in \u001b[0;36m_getitem_column\u001b[0;34m(self, key)\u001b[0m\n\u001b[1;32m   2690\u001b[0m         \u001b[0;31m# get column\u001b[0m\u001b[0;34m\u001b[0m\u001b[0;34m\u001b[0m\u001b[0m\n\u001b[1;32m   2691\u001b[0m         \u001b[0;32mif\u001b[0m \u001b[0mself\u001b[0m\u001b[0;34m.\u001b[0m\u001b[0mcolumns\u001b[0m\u001b[0;34m.\u001b[0m\u001b[0mis_unique\u001b[0m\u001b[0;34m:\u001b[0m\u001b[0;34m\u001b[0m\u001b[0m\n\u001b[0;32m-> 2692\u001b[0;31m             \u001b[0;32mreturn\u001b[0m \u001b[0mself\u001b[0m\u001b[0;34m.\u001b[0m\u001b[0m_get_item_cache\u001b[0m\u001b[0;34m(\u001b[0m\u001b[0mkey\u001b[0m\u001b[0;34m)\u001b[0m\u001b[0;34m\u001b[0m\u001b[0m\n\u001b[0m\u001b[1;32m   2693\u001b[0m \u001b[0;34m\u001b[0m\u001b[0m\n\u001b[1;32m   2694\u001b[0m         \u001b[0;31m# duplicate columns & possible reduce dimensionality\u001b[0m\u001b[0;34m\u001b[0m\u001b[0;34m\u001b[0m\u001b[0m\n",
      "\u001b[0;32m/anaconda3/lib/python3.6/site-packages/pandas/core/generic.py\u001b[0m in \u001b[0;36m_get_item_cache\u001b[0;34m(self, item)\u001b[0m\n\u001b[1;32m   2484\u001b[0m         \u001b[0mres\u001b[0m \u001b[0;34m=\u001b[0m \u001b[0mcache\u001b[0m\u001b[0;34m.\u001b[0m\u001b[0mget\u001b[0m\u001b[0;34m(\u001b[0m\u001b[0mitem\u001b[0m\u001b[0;34m)\u001b[0m\u001b[0;34m\u001b[0m\u001b[0m\n\u001b[1;32m   2485\u001b[0m         \u001b[0;32mif\u001b[0m \u001b[0mres\u001b[0m \u001b[0;32mis\u001b[0m \u001b[0;32mNone\u001b[0m\u001b[0;34m:\u001b[0m\u001b[0;34m\u001b[0m\u001b[0m\n\u001b[0;32m-> 2486\u001b[0;31m             \u001b[0mvalues\u001b[0m \u001b[0;34m=\u001b[0m \u001b[0mself\u001b[0m\u001b[0;34m.\u001b[0m\u001b[0m_data\u001b[0m\u001b[0;34m.\u001b[0m\u001b[0mget\u001b[0m\u001b[0;34m(\u001b[0m\u001b[0mitem\u001b[0m\u001b[0;34m)\u001b[0m\u001b[0;34m\u001b[0m\u001b[0m\n\u001b[0m\u001b[1;32m   2487\u001b[0m             \u001b[0mres\u001b[0m \u001b[0;34m=\u001b[0m \u001b[0mself\u001b[0m\u001b[0;34m.\u001b[0m\u001b[0m_box_item_values\u001b[0m\u001b[0;34m(\u001b[0m\u001b[0mitem\u001b[0m\u001b[0;34m,\u001b[0m \u001b[0mvalues\u001b[0m\u001b[0;34m)\u001b[0m\u001b[0;34m\u001b[0m\u001b[0m\n\u001b[1;32m   2488\u001b[0m             \u001b[0mcache\u001b[0m\u001b[0;34m[\u001b[0m\u001b[0mitem\u001b[0m\u001b[0;34m]\u001b[0m \u001b[0;34m=\u001b[0m \u001b[0mres\u001b[0m\u001b[0;34m\u001b[0m\u001b[0m\n",
      "\u001b[0;32m/anaconda3/lib/python3.6/site-packages/pandas/core/internals.py\u001b[0m in \u001b[0;36mget\u001b[0;34m(self, item, fastpath)\u001b[0m\n\u001b[1;32m   4113\u001b[0m \u001b[0;34m\u001b[0m\u001b[0m\n\u001b[1;32m   4114\u001b[0m             \u001b[0;32mif\u001b[0m \u001b[0;32mnot\u001b[0m \u001b[0misna\u001b[0m\u001b[0;34m(\u001b[0m\u001b[0mitem\u001b[0m\u001b[0;34m)\u001b[0m\u001b[0;34m:\u001b[0m\u001b[0;34m\u001b[0m\u001b[0m\n\u001b[0;32m-> 4115\u001b[0;31m                 \u001b[0mloc\u001b[0m \u001b[0;34m=\u001b[0m \u001b[0mself\u001b[0m\u001b[0;34m.\u001b[0m\u001b[0mitems\u001b[0m\u001b[0;34m.\u001b[0m\u001b[0mget_loc\u001b[0m\u001b[0;34m(\u001b[0m\u001b[0mitem\u001b[0m\u001b[0;34m)\u001b[0m\u001b[0;34m\u001b[0m\u001b[0m\n\u001b[0m\u001b[1;32m   4116\u001b[0m             \u001b[0;32melse\u001b[0m\u001b[0;34m:\u001b[0m\u001b[0;34m\u001b[0m\u001b[0m\n\u001b[1;32m   4117\u001b[0m                 \u001b[0mindexer\u001b[0m \u001b[0;34m=\u001b[0m \u001b[0mnp\u001b[0m\u001b[0;34m.\u001b[0m\u001b[0marange\u001b[0m\u001b[0;34m(\u001b[0m\u001b[0mlen\u001b[0m\u001b[0;34m(\u001b[0m\u001b[0mself\u001b[0m\u001b[0;34m.\u001b[0m\u001b[0mitems\u001b[0m\u001b[0;34m)\u001b[0m\u001b[0;34m)\u001b[0m\u001b[0;34m[\u001b[0m\u001b[0misna\u001b[0m\u001b[0;34m(\u001b[0m\u001b[0mself\u001b[0m\u001b[0;34m.\u001b[0m\u001b[0mitems\u001b[0m\u001b[0;34m)\u001b[0m\u001b[0;34m]\u001b[0m\u001b[0;34m\u001b[0m\u001b[0m\n",
      "\u001b[0;32m/anaconda3/lib/python3.6/site-packages/pandas/core/indexes/base.py\u001b[0m in \u001b[0;36mget_loc\u001b[0;34m(self, key, method, tolerance)\u001b[0m\n\u001b[1;32m   3063\u001b[0m                 \u001b[0;32mreturn\u001b[0m \u001b[0mself\u001b[0m\u001b[0;34m.\u001b[0m\u001b[0m_engine\u001b[0m\u001b[0;34m.\u001b[0m\u001b[0mget_loc\u001b[0m\u001b[0;34m(\u001b[0m\u001b[0mkey\u001b[0m\u001b[0;34m)\u001b[0m\u001b[0;34m\u001b[0m\u001b[0m\n\u001b[1;32m   3064\u001b[0m             \u001b[0;32mexcept\u001b[0m \u001b[0mKeyError\u001b[0m\u001b[0;34m:\u001b[0m\u001b[0;34m\u001b[0m\u001b[0m\n\u001b[0;32m-> 3065\u001b[0;31m                 \u001b[0;32mreturn\u001b[0m \u001b[0mself\u001b[0m\u001b[0;34m.\u001b[0m\u001b[0m_engine\u001b[0m\u001b[0;34m.\u001b[0m\u001b[0mget_loc\u001b[0m\u001b[0;34m(\u001b[0m\u001b[0mself\u001b[0m\u001b[0;34m.\u001b[0m\u001b[0m_maybe_cast_indexer\u001b[0m\u001b[0;34m(\u001b[0m\u001b[0mkey\u001b[0m\u001b[0;34m)\u001b[0m\u001b[0;34m)\u001b[0m\u001b[0;34m\u001b[0m\u001b[0m\n\u001b[0m\u001b[1;32m   3066\u001b[0m \u001b[0;34m\u001b[0m\u001b[0m\n\u001b[1;32m   3067\u001b[0m         \u001b[0mindexer\u001b[0m \u001b[0;34m=\u001b[0m \u001b[0mself\u001b[0m\u001b[0;34m.\u001b[0m\u001b[0mget_indexer\u001b[0m\u001b[0;34m(\u001b[0m\u001b[0;34m[\u001b[0m\u001b[0mkey\u001b[0m\u001b[0;34m]\u001b[0m\u001b[0;34m,\u001b[0m \u001b[0mmethod\u001b[0m\u001b[0;34m=\u001b[0m\u001b[0mmethod\u001b[0m\u001b[0;34m,\u001b[0m \u001b[0mtolerance\u001b[0m\u001b[0;34m=\u001b[0m\u001b[0mtolerance\u001b[0m\u001b[0;34m)\u001b[0m\u001b[0;34m\u001b[0m\u001b[0m\n",
      "\u001b[0;32mpandas/_libs/index.pyx\u001b[0m in \u001b[0;36mpandas._libs.index.IndexEngine.get_loc\u001b[0;34m()\u001b[0m\n",
      "\u001b[0;32mpandas/_libs/index.pyx\u001b[0m in \u001b[0;36mpandas._libs.index.IndexEngine.get_loc\u001b[0;34m()\u001b[0m\n",
      "\u001b[0;32mpandas/_libs/hashtable_class_helper.pxi\u001b[0m in \u001b[0;36mpandas._libs.hashtable.PyObjectHashTable.get_item\u001b[0;34m()\u001b[0m\n",
      "\u001b[0;32mpandas/_libs/hashtable_class_helper.pxi\u001b[0m in \u001b[0;36mpandas._libs.hashtable.PyObjectHashTable.get_item\u001b[0;34m()\u001b[0m\n",
      "\u001b[0;31mKeyError\u001b[0m: (0, 3)"
     ]
    }
   ],
   "source": [
    "import pandas as pd\n",
    "from myfitness.summary import table\n",
    "\n",
    "testdata2 = {'Start': ['2017-02-12 0:00','2017-03-07 0:00' , '2017-02-14 0:00', '2017-03-05 0:00', '2017-03-06 0:00', '2017-04-20 0:00', '2017-04-21 0:00', '2017-02-13 0:00','2017-04-22 0:00', '2017-04-23 0:00'],\n",
    "            'Finish': ['2017-02-13 0:00','2017-03-08 0:00', '2017-02-15 0:00', '2017-03-06 0:00', '2017-03-07 0:00', '2017-04-21 0:00', '2017-04-22 0:00', '2017-02-14 0:00', '2017-04-23 0:00', '2017-04-24 0:00'],\n",
    "            'Distance (mi)': [0.559,2.225,1.422,1.0797,2.614,3.295,2.276,2.591,3.995,2.611],\n",
    "            'Steps (count)': [1180, 4673, 3055, 2365, 5270, 6820, 4751, 5353, 9647, 6806]}\n",
    "testdf = pd.DataFrame(testdata2)\n",
    "maxref = pd.Series({'Start': '2017-04-22 0:00', 'Finish': '2017-04-23 0:00', 'Distance (mi)': 3.995, 'Steps (count)': 9647})\n",
    "testdf[0,3]\n"
   ]
  },
  {
   "cell_type": "code",
   "execution_count": null,
   "metadata": {},
   "outputs": [],
   "source": [
    "febsteps = (1180+5353+3055)/3\n",
    "febsteps"
   ]
  },
  {
   "cell_type": "code",
   "execution_count": null,
   "metadata": {},
   "outputs": [],
   "source": []
  }
 ],
 "metadata": {
  "kernelspec": {
   "display_name": "Python 3",
   "language": "python",
   "name": "python3"
  },
  "language_info": {
   "codemirror_mode": {
    "name": "ipython",
    "version": 3
   },
   "file_extension": ".py",
   "mimetype": "text/x-python",
   "name": "python",
   "nbconvert_exporter": "python",
   "pygments_lexer": "ipython3",
   "version": "3.6.5"
  }
 },
 "nbformat": 4,
 "nbformat_minor": 2
}
