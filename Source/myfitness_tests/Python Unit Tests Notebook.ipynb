{
 "cells": [
  {
   "cell_type": "code",
   "execution_count": null,
   "metadata": {},
   "outputs": [],
   "source": [
    "# maxMinTestModule.py\n",
    "\n",
    "import unittest\n",
    "import pandas as pd\n",
    "from myfitness.summary import maxmin\n",
    " \n",
    "class TestmaxMin(unittest.TestCase):\n",
    "   \n",
    "    @classmethod                            \n",
    "    def setUpClass(cls):\n",
    "        print(\"Starting TestmaxMin\")\n",
    "      \n",
    "    def setUp(self):\n",
    "        super().setUp()\n",
    "        testdata = {'Start': ['2017-02-12 0:00', '2017-02-13 0:00', '2017-02-14 0:00', '2017-03-05 0:00', '2017-03-06 0:00', '2017-03-07 0:00', '2017-04-20 0:00', '2017-04-21 0:00', '2017-04-22 0:00', '2017-04-23 0:00'],\n",
    "                    'Finish': ['2017-02-13 0:00', '2017-02-14 0:00' , '2017-02-15 0:00', '2017-03-06 0:00', '2017-03-07 0:00', '2017-03-08 0:00', '2017-04-21 0:00', '2017-04-22 0:00', '2017-04-23 0:00', '2017-04-24 0:00'],\n",
    "                    'Distance (mi)': [0.559,2.591,1.422,1.0797,2.614,2.225,3.295,2.276,3.995,2.611],\n",
    "                    'Steps (count)': [1180, 5353, 3055, 2365, 5270, 4673, 6820, 4751, 9647, 6806]}\n",
    "        self.testdf = pd.DataFrame(testdata)\n",
    "        print(self.__class__())\n",
    "\n",
    "    def test_getMax(self):\n",
    "        maxref = pd.Series({'Start': '2017-04-22 0:00', 'Finish': '2017-04-23 0:00', 'Distance (mi)': 3.995, 'Steps (count)': 9647})\n",
    "        # Verify the datatype 'object' is returned\n",
    "        self.assertEqual(maxmin.getMax(self.testdf).dtypes, 'O' ) \n",
    "        # Verify Start value for index with max steps\n",
    "        self.assertEqual(maxmin.getMax(self.testdf).loc['Start'],maxref.loc['Start'])\n",
    "        # Verify Finish value for index with max steps\n",
    "        self.assertEqual(maxmin.getMax(self.testdf).loc['Finish'],maxref.loc['Finish'])\n",
    "        # Verify Distance value for index with max steps\n",
    "        self.assertEqual(maxmin.getMax(self.testdf).loc['Distance (mi)'],maxref.loc['Distance (mi)'])\n",
    "        # Verifty maximum steps were correctly found\n",
    "        self.assertEqual(maxmin.getMax(self.testdf).loc['Steps (count)'],maxref.loc['Steps (count)'])\n",
    "        # Verify Except statement by changing one of the values for Steps to a string:\n",
    "        self.testdf.loc[3, 'Steps (count)'] = '2365'\n",
    "        self.assertEqual(maxmin.getMax(self.testdf).loc['Steps (count)'],maxref.loc['Steps (count)'])\n",
    "        \n",
    "    def test_getMin(self):\n",
    "        minref = pd.Series({'Start': '2017-02-12 0:00', 'Finish': '2017-02-13 0:00', 'Distance (mi)': 0.559,'Steps (count)': 1180})\n",
    "        # Verify the datatype 'object' is returned\n",
    "        self.assertEqual(maxmin.getMin(self.testdf).dtypes, 'O') \n",
    "        # Verify Start value for index with max steps\n",
    "        self.assertEqual(maxmin.getMin(self.testdf).loc['Start'],minref.loc['Start'])\n",
    "        # Verify Finish value for index with max steps\n",
    "        self.assertEqual(maxmin.getMin(self.testdf).loc['Finish'],minref.loc['Finish'])\n",
    "        # Verify Distance value for index with max steps\n",
    "        self.assertEqual(maxmin.getMin(self.testdf).loc['Distance (mi)'],minref.loc['Distance (mi)'])\n",
    "        # Verifty maximum steps were correctly found\n",
    "        self.assertEqual(maxmin.getMin(self.testdf).loc['Steps (count)'],minref.loc['Steps (count)'])\n",
    "        # Verify Except statement by changing one of the values for Steps to a string:\n",
    "        self.testdf.loc[4, 'Steps (count)'] = '5270'\n",
    "        self.assertEqual(maxmin.getMin(self.testdf).loc['Steps (count)'],minref.loc['Steps (count)'])\n",
    "    \n",
    "    def tearDown(self):\n",
    "        del self.testdf\n",
    "        super().tearDown\n",
    "    \n",
    "    @classmethod\n",
    "    def tearDownClass(cls):\n",
    "        print (\"TestmaxMin completed\")\n",
    "\n",
    "# For Jupyter notebook only:\n",
    "unittest.main(argv=[''], verbosity=2, exit=False)"
   ]
  },
  {
   "cell_type": "code",
   "execution_count": 3,
   "metadata": {},
   "outputs": [
    {
     "name": "stderr",
     "output_type": "stream",
     "text": [
      "test_table (__main__.Testtable) ... "
     ]
    },
    {
     "name": "stdout",
     "output_type": "stream",
     "text": [
      "Starting Testtable\n",
      "runTest (__main__.Testtable)\n",
      "Testtable completed\n"
     ]
    },
    {
     "name": "stderr",
     "output_type": "stream",
     "text": [
      "ok\n",
      "\n",
      "----------------------------------------------------------------------\n",
      "Ran 1 test in 0.015s\n",
      "\n",
      "OK\n"
     ]
    },
    {
     "data": {
      "text/plain": [
       "<unittest.main.TestProgram at 0x11132d710>"
      ]
     },
     "execution_count": 3,
     "metadata": {},
     "output_type": "execute_result"
    }
   ],
   "source": [
    "# tableTestModule.py\n",
    "\n",
    "import unittest\n",
    "import pandas as pd\n",
    "from myfitness.summary import table\n",
    " \n",
    "class Testtable(unittest.TestCase):\n",
    "    \n",
    "    @classmethod                            \n",
    "    def setUpClass(cls):\n",
    "        print(\"Starting Testtable\")\n",
    "    \n",
    "    def setUp(self):\n",
    "        super().setUp()\n",
    "        testdata2 = {'Start': ['2017-02-12 0:00','2017-03-07 0:00' , '2017-02-14 0:00', '2017-03-05 0:00', '2017-03-06 0:00', '2017-04-20 0:00', '2017-04-21 0:00', '2017-02-13 0:00','2017-04-22 0:00', '2017-04-23 0:00'],\n",
    "            'Finish': ['2017-02-13 0:00','2017-03-08 0:00', '2017-02-15 0:00', '2017-03-06 0:00', '2017-03-07 0:00', '2017-04-21 0:00', '2017-04-22 0:00', '2017-02-14 0:00', '2017-04-23 0:00', '2017-04-24 0:00'],\n",
    "            'Distance (mi)': [0.559,2.225,1.422,1.0797,2.614,3.295,2.276,2.591,3.995,2.611],\n",
    "            'Steps (count)': [1180, 4673, 3055, 2365, 5270, 6820, 4751, 5353, 9647, 6806]}\n",
    "        self.testdf2 = pd.DataFrame(testdata2)\n",
    "        print(self.__class__())\n",
    "\n",
    "    def test_table(self):\n",
    "        febsteps = (1180+5353+3055)/3\n",
    "        marsteps = (2365+5270+4673)/3\n",
    "        aprsteps = (6820+4751+9647+6806)/4\n",
    "        testtable = table.summary_data(self.testdf2)\n",
    "        # Validate the date string was changed to datetime\n",
    "        self.assertEqual(testtable.index.dtype, 'datetime64[ns]')\n",
    "        # Verify the shape of the table\n",
    "        self.assertEqual(testtable.shape, (3,1))\n",
    "        # Verify the dates are sorted\n",
    "        self.assertTrue(testtable.index[0]<testtable.index[1])\n",
    "        self.assertTrue(testtable.index[1]<testtable.index[2])\n",
    "        # Verify the values were calculated correctly\n",
    "        self.assertEqual(testtable.steps.values[0], febsteps)\n",
    "        self.assertEqual(testtable.steps.values[1], marsteps)\n",
    "        self.assertEqual(testtable.steps.values[2], aprsteps)\n",
    "        # Verify Except statement by changing one of the values for Steps to a string:\n",
    "        self.testdf2.loc[4, 'Steps (count)'] = '5270'\n",
    "        self.assertEqual(testtable.steps.values[2], aprsteps)\n",
    "        \n",
    "    def tearDown(self):\n",
    "        del self.testdf2\n",
    "        super().tearDown()        \n",
    "    \n",
    "    @classmethod\n",
    "    def tearDownClass(cls):\n",
    "        print(\"Testtable completed\")   \n",
    "\n",
    "# For Jupyter notebook only:\n",
    "unittest.main(argv=[''], verbosity=2, exit=False)"
   ]
  },
  {
   "cell_type": "code",
   "execution_count": null,
   "metadata": {},
   "outputs": [],
   "source": [
    "# myFitnessTestSuite.py\n",
    "\n",
    "import unittest\n",
    "from maxMinTestModule import TestmaxMin\n",
    "from tableTestModule import Testtable\n",
    "from TestChart import TestChart\n",
    "from TestData import TestDataPerson\n",
    "\n",
    "\n",
    "def myFitness_suite():\n",
    "    suite = unittest.TestSuite()\n",
    "    result = unittest.TestResult()\n",
    "    suite.addTest(unittest.makeSuite(TestmaxMin))\n",
    "    suite.addTest(unittest.makeSuite(Testtable))\n",
    "    suite.addTest(unittest.makeSuite(TestChart))\n",
    "    suite.addTest(unittest.makeSuite(TestDataPerson))\n",
    "    runner = unittest.TextTestRunner()\n",
    "    print(runner.run(suite))\n",
    "\n",
    "myFitness_suite()"
   ]
  },
  {
   "cell_type": "code",
   "execution_count": null,
   "metadata": {},
   "outputs": [],
   "source": [
    "import pandas as pd\n",
    "from myfitness.summary import table\n",
    "\n",
    "testdata2 = {'Start': ['2017-02-12 0:00','2017-03-07 0:00' , '2017-02-14 0:00', '2017-03-05 0:00', '2017-03-06 0:00', '2017-04-20 0:00', '2017-04-21 0:00', '2017-02-13 0:00','2017-04-22 0:00', '2017-04-23 0:00'],\n",
    "            'Finish': ['2017-02-13 0:00','2017-03-08 0:00', '2017-02-15 0:00', '2017-03-06 0:00', '2017-03-07 0:00', '2017-04-21 0:00', '2017-04-22 0:00', '2017-02-14 0:00', '2017-04-23 0:00', '2017-04-24 0:00'],\n",
    "            'Distance (mi)': [0.559,2.225,1.422,1.0797,2.614,3.295,2.276,2.591,3.995,2.611],\n",
    "            'Steps (count)': [1180, 4673, 3055, 2365, 5270, 6820, 4751, 5353, 9647, 6806]}\n",
    "testdf = pd.DataFrame(testdata2)\n",
    "maxref = pd.Series({'Start': '2017-04-22 0:00', 'Finish': '2017-04-23 0:00', 'Distance (mi)': 3.995, 'Steps (count)': 9647})\n",
    "testdf['Steps (count)']\n",
    "\n"
   ]
  },
  {
   "cell_type": "code",
   "execution_count": null,
   "metadata": {},
   "outputs": [],
   "source": [
    "febsteps = (1180+5353+3055)/3\n",
    "febsteps"
   ]
  },
  {
   "cell_type": "code",
   "execution_count": null,
   "metadata": {},
   "outputs": [],
   "source": []
  }
 ],
 "metadata": {
  "kernelspec": {
   "display_name": "Python 3",
   "language": "python",
   "name": "python3"
  },
  "language_info": {
   "codemirror_mode": {
    "name": "ipython",
    "version": 3
   },
   "file_extension": ".py",
   "mimetype": "text/x-python",
   "name": "python",
   "nbconvert_exporter": "python",
   "pygments_lexer": "ipython3",
   "version": "3.6.5"
  }
 },
 "nbformat": 4,
 "nbformat_minor": 2
}
